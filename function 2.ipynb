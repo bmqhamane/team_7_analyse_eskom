{
 "cells": [
  {
   "cell_type": "code",
   "execution_count": null,
   "metadata": {},
   "outputs": [],
   "source": [
    "def five_num_summary(items):\n",
    "\n",
    "    \"\"\"Return dict of dexcriptive statistics:\n",
    "            max, median, min, q1, and q3.\n",
    "    \n",
    "    Args: \n",
    "        items (list): A list containing float values.\n",
    "    \n",
    "    Return:\n",
    "        dict: dict of 7 key, value parins:\n",
    "            {'name of stat': value rounded to 2 decimals, etc}.\n",
    "    \n",
    "    Example:\n",
    "        Input: five_num_summary([5,10,15,20,25,30])\n",
    "        Output: {'max': 30, 'median': 17.5, 'min': 5, 'q1': 11.25, 'q3': 23.75}\n",
    "    \"\"\"\n",
    "\n",
    "    dictionary = {'max':0, 'median':0, 'min':0, 'q1':0, 'q3':0}\n",
    "    dictionary['max'] = np.max(items).round(2)\n",
    "    dictionary['median'] = np.median(items).round(2)\n",
    "    dictionary['min'] = np.min(items).round(2)\n",
    "    dictionary['q1'] = np.percentile(items, 25).round(2)\n",
    "    dictionary['q3'] = np.percentile(items, 75).round(2)\n",
    "    return dictionary"
   ]
  }
 ],
 "metadata": {
  "kernelspec": {
   "display_name": "Python 3",
   "language": "python",
   "name": "python3"
  },
  "language_info": {
   "codemirror_mode": {
    "name": "ipython",
    "version": 3
   },
   "file_extension": ".py",
   "mimetype": "text/x-python",
   "name": "python",
   "nbconvert_exporter": "python",
   "pygments_lexer": "ipython3",
   "version": "3.8.3"
  }
 },
 "nbformat": 4,
 "nbformat_minor": 4
}
